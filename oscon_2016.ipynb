{
 "cells": [
  {
   "cell_type": "code",
   "execution_count": 11,
   "metadata": {
    "collapsed": true
   },
   "outputs": [],
   "source": [
    "from py2neo import Graph\n",
    "import requests"
   ]
  },
  {
   "cell_type": "markdown",
   "metadata": {},
   "source": [
    "# The OSCON Graph\n",
    "![](img/conf-graph.jpg)"
   ]
  },
  {
   "cell_type": "code",
   "execution_count": 19,
   "metadata": {
    "collapsed": true
   },
   "outputs": [],
   "source": [
    "graph = Graph(\"http://52.5.144.40/db/data\")\n",
    "OSCON_FEED_URL = \"http://conferences.oreilly.com/oscon/open-source-us/public/content/report/schedule_feed\""
   ]
  },
  {
   "cell_type": "code",
   "execution_count": 13,
   "metadata": {
    "collapsed": true
   },
   "outputs": [],
   "source": [
    "r = requests.get(OSCON_FEED_URL)\n",
    "d = r.json()"
   ]
  },
  {
   "cell_type": "code",
   "execution_count": 14,
   "metadata": {
    "collapsed": false
   },
   "outputs": [
    {
     "data": {
      "text/plain": [
       "dict_keys(['events', 'conferences', 'speakers', 'venues'])"
      ]
     },
     "execution_count": 14,
     "metadata": {},
     "output_type": "execute_result"
    }
   ],
   "source": [
    "d['Schedule'].keys()"
   ]
  },
  {
   "cell_type": "code",
   "execution_count": 28,
   "metadata": {
    "collapsed": true
   },
   "outputs": [],
   "source": [
    "INSERT_EVENTS_QUERY = '''\n",
    "WITH {events} AS events\n",
    "UNWIND events AS event\n",
    "MERGE (t:Talk {serial: event.serial})\n",
    "  ON CREATE SET t.name = event.name,\n",
    "    t.type = event.event_type,\n",
    "    t.time_start = event.time_start,\n",
    "    t.time_stop = event.time_stop,\n",
    "    t.description = event.description,\n",
    "    t.url = event.website_url,\n",
    "    t.image = event.large_img_url,\n",
    "    t.youtube_url = event.youtube_url\n",
    "\n",
    "MERGE (r:Room {serial: event.venue_serial})\n",
    "CREATE UNIQUE (t)-[:IN]->(r)\n",
    "\n",
    "FOREACH (speaker IN event.speakers |\n",
    "  MERGE (s:Speaker {serial: speaker})\n",
    "  CREATE UNIQUE (s)-[:PRESENTS]->(t)\n",
    ")\n",
    "\n",
    "FOREACH (cat in event.categories |\n",
    "  MERGE (top:Topic {name: cat})\n",
    "  CREATE UNIQUE (t)-[:ABOUT]->(top)\n",
    "  \n",
    "  MERGE (trac:Track {name: cat})\n",
    "  CREATE UNIQUE (t)-[:PART_OF]->(trac)\n",
    ") \n",
    "'''\n",
    "\n",
    "INSERT_SPEAKERS_QUERY = '''\n",
    "WITH {speakers} AS speakers\n",
    "UNWIND speakers AS speaker\n",
    "MERGE (s:Speaker {serial: speaker.serial})\n",
    "  SET s.name = speaker.name,\n",
    "    s.photo = speaker.photo,\n",
    "    s.url = speaker.url,\n",
    "    s.position = speaker.position,\n",
    "    s.twitter = speaker.twitter,\n",
    "    s.bio = speaker.bio,\n",
    "    s.image = speaker.large_img_url,\n",
    "    s.youtube = speaker.youtube_url\n",
    "\n",
    "WITH s,speaker WHERE speaker.affiliation IS NOT NULL\n",
    "MERGE (org:Organization {name: speaker.affiliation})\n",
    "CREATE UNIQUE (s)-[:AFFILIATED]->(org)\n",
    "'''\n",
    "\n",
    "INSERT_VENUES = '''\n",
    "WITH {venues} AS venues\n",
    "UNWIND venues AS venue\n",
    "MERGE (r:Room {serial: venue.serial})\n",
    "SET r.name = venue.name\n",
    "\n",
    "'''"
   ]
  },
  {
   "cell_type": "code",
   "execution_count": 29,
   "metadata": {
    "collapsed": false
   },
   "outputs": [
    {
     "data": {
      "text/plain": []
     },
     "execution_count": 29,
     "metadata": {},
     "output_type": "execute_result"
    }
   ],
   "source": [
    "graph.cypher.execute(INSERT_EVENTS_QUERY, parameters={'events': d['Schedule']['events']})"
   ]
  },
  {
   "cell_type": "code",
   "execution_count": 30,
   "metadata": {
    "collapsed": false
   },
   "outputs": [
    {
     "data": {
      "text/plain": []
     },
     "execution_count": 30,
     "metadata": {},
     "output_type": "execute_result"
    }
   ],
   "source": [
    "graph.cypher.execute(INSERT_SPEAKERS_QUERY, parameters={'speakers': d['Schedule']['speakers']})"
   ]
  },
  {
   "cell_type": "code",
   "execution_count": 31,
   "metadata": {
    "collapsed": false
   },
   "outputs": [
    {
     "data": {
      "text/plain": []
     },
     "execution_count": 31,
     "metadata": {},
     "output_type": "execute_result"
    }
   ],
   "source": [
    "graph.cypher.execute(INSERT_VENUES, parameters={'venues': d['Schedule']['venues']})"
   ]
  },
  {
   "cell_type": "code",
   "execution_count": null,
   "metadata": {
    "collapsed": true
   },
   "outputs": [],
   "source": []
  }
 ],
 "metadata": {
  "kernelspec": {
   "display_name": "Python 3",
   "language": "python",
   "name": "python3"
  },
  "language_info": {
   "codemirror_mode": {
    "name": "ipython",
    "version": 3
   },
   "file_extension": ".py",
   "mimetype": "text/x-python",
   "name": "python",
   "nbconvert_exporter": "python",
   "pygments_lexer": "ipython3",
   "version": "3.5.0"
  }
 },
 "nbformat": 4,
 "nbformat_minor": 0
}
